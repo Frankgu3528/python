{
 "cells": [
  {
   "cell_type": "markdown",
   "metadata": {},
   "source": [
    "## 学校课笔记"
   ]
  },
  {
   "cell_type": "markdown",
   "metadata": {},
   "source": [
    "#### isdigit()函数\n",
    "S中至少有一个字符且如果S中的所有字符都是数字，那么返回结果就是True；否则，就返回False"
   ]
  },
  {
   "cell_type": "code",
   "execution_count": 2,
   "metadata": {},
   "outputs": [
    {
     "name": "stdout",
     "output_type": "stream",
     "text": [
      "True\n",
      "False\n",
      "False\n"
     ]
    }
   ],
   "source": [
    "S1 = '12345'       #纯数字\n",
    "S2 = '汉字'        #汉字\n",
    "S3 = '%#￥'        #特殊符号\n",
    "\n",
    "print(S1.isdigit())\n",
    "print(S2.isdigit())\n",
    "print(S3.isdigit())"
   ]
  },
  {
   "cell_type": "markdown",
   "metadata": {},
   "source": [
    "#### isalpha()\n",
    "S中至少有一个字符且如果S中的所有字符都是字母，那么返回结果就是True；否则，就返回False"
   ]
  },
  {
   "cell_type": "code",
   "execution_count": 3,
   "metadata": {},
   "outputs": [
    {
     "name": "stdout",
     "output_type": "stream",
     "text": [
      "True\n",
      "False\n",
      "False\n"
     ]
    }
   ],
   "source": [
    "S1 = 'abc汉字'     #汉字+字母\n",
    "S2 = 'ab字134'     #包含数字\n",
    "S3 = '*&&'         #特殊符号\n",
    "\n",
    "print(S1.isalpha())\n",
    "print(S2.isalpha())\n",
    "print(S3.isalpha())"
   ]
  },
  {
   "cell_type": "markdown",
   "metadata": {},
   "source": [
    "#### isalnum()\n",
    "S中至少有一个字符且如果S中的所有字符都是字母数字，那么返回结果就是True；否则，就返回False"
   ]
  },
  {
   "cell_type": "code",
   "execution_count": 4,
   "metadata": {},
   "outputs": [
    {
     "name": "stdout",
     "output_type": "stream",
     "text": [
      "True\n",
      "True\n",
      "False\n"
     ]
    }
   ],
   "source": [
    "S1 = 'abc汉字1'    #字母+汉字+数字\n",
    "S2 = '①②③'      #带圈的数字\n",
    "S3 = '%……&'       #特殊符号\n",
    "\n",
    "print(S1.isalnum())\n",
    "print(S2.isalnum())\n",
    "print(S3.isalnum())"
   ]
  },
  {
   "cell_type": "markdown",
   "metadata": {},
   "source": [
    "#### count函数\n",
    "str.count(sub, start= 0,end=len(string))"
   ]
  },
  {
   "cell_type": "code",
   "execution_count": 5,
   "metadata": {},
   "outputs": [
    {
     "name": "stdout",
     "output_type": "stream",
     "text": [
      "str.count(sub, 4, 40) :  2\n",
      "str.count(sub) :  1\n"
     ]
    }
   ],
   "source": [
    "str = \"this is string example....wow!!!\";\n",
    " \n",
    "sub = \"i\";\n",
    "print (\"str.count(sub, 4, 40) : \", str.count(sub, 4, 40))\n",
    "sub = \"wow\";\n",
    "print (\"str.count(sub) : \", str.count(sub))"
   ]
  },
  {
   "cell_type": "markdown",
   "metadata": {},
   "source": [
    "#### 空值None\n",
    "None 是一个特殊的空值，但不能理解为0"
   ]
  },
  {
   "cell_type": "code",
   "execution_count": 6,
   "metadata": {},
   "outputs": [
    {
     "name": "stdout",
     "output_type": "stream",
     "text": [
      "False\n",
      "False\n"
     ]
    }
   ],
   "source": [
    "print(bool(None))\n",
    "print(None==0)"
   ]
  },
  {
   "cell_type": "markdown",
   "metadata": {},
   "source": [
    "#### 运算符优先级\n",
    "重要： **not>and>or**\n",
    "<img src=\"./img/1.png\" div align=center style=\"transform:scale(0.5)\"/>"
   ]
  },
  {
   "cell_type": "markdown",
   "metadata": {},
   "source": [
    "我们可以看这么一个例子：\n"
   ]
  },
  {
   "cell_type": "code",
   "execution_count": 8,
   "metadata": {},
   "outputs": [
    {
     "name": "stdout",
     "output_type": "stream",
     "text": [
      "False\n",
      "True\n"
     ]
    }
   ],
   "source": [
    "print(\"12\" in \"1234\" == True)\n",
    "print((\"12\" in \"1234\") == True)"
   ]
  },
  {
   "cell_type": "markdown",
   "metadata": {},
   "source": [
    "#### 拷贝中的地址问题"
   ]
  },
  {
   "cell_type": "code",
   "execution_count": 1,
   "metadata": {},
   "outputs": [
    {
     "name": "stdout",
     "output_type": "stream",
     "text": [
      "True\n",
      "False\n",
      "False\n"
     ]
    }
   ],
   "source": [
    "a=[1,2,3,4]\n",
    "b=a\n",
    "print(id(a)==id(b))\n",
    "c=a.copy()\n",
    "print(id(a)==id(c))\n",
    "d=a[:]\n",
    "print(id(a)==id(d))"
   ]
  },
  {
   "cell_type": "markdown",
   "metadata": {},
   "source": [
    "### 随机函数库\n",
    "<img src=\"./img/2.png\" div align=center style=\"transform:scale(0.7)\"/>"
   ]
  },
  {
   "cell_type": "code",
   "execution_count": 16,
   "metadata": {},
   "outputs": [
    {
     "name": "stdout",
     "output_type": "stream",
     "text": [
      "0.9147878440287163\n",
      "4.610800589639949\n",
      "10\n"
     ]
    }
   ],
   "source": [
    "import random \n",
    "print(random.random())\n",
    "print(random.uniform(2,5))\n",
    "print(random.randint(1,10))"
   ]
  },
  {
   "cell_type": "markdown",
   "metadata": {},
   "source": [
    "### 小心Python的list乘法"
   ]
  },
  {
   "cell_type": "markdown",
   "metadata": {},
   "source": [
    "Python的list乘法是个很方便的东西，但也很危险。(~~虽然我基本不用~~）"
   ]
  },
  {
   "cell_type": "code",
   "execution_count": 1,
   "metadata": {},
   "outputs": [
    {
     "name": "stdout",
     "output_type": "stream",
     "text": [
      "[1, 1, 1, 1]\n"
     ]
    }
   ],
   "source": [
    "l=[1]*4\n",
    "print(l)"
   ]
  },
  {
   "cell_type": "code",
   "execution_count": 2,
   "metadata": {},
   "outputs": [
    {
     "name": "stdout",
     "output_type": "stream",
     "text": [
      "[[0, 0, 7], [0, 0, 7], [0, 0, 7]]\n"
     ]
    }
   ],
   "source": [
    "row=[0]*3\n",
    "data=[row,row,row]\n",
    "data[2][2]=7\n",
    "print(data)"
   ]
  },
  {
   "cell_type": "markdown",
   "metadata": {},
   "source": [
    "可以看到我们只想改最后一个0，结果最后三个0都变了（~~危~~）"
   ]
  },
  {
   "cell_type": "markdown",
   "metadata": {},
   "source": [
    "一句话结识就是，*操作符只是复制了值的引用，而不是创建了新的对象。上述的data里面，是四个指向同一个的row的引用。"
   ]
  },
  {
   "cell_type": "code",
   "execution_count": 8,
   "metadata": {},
   "outputs": [
    {
     "name": "stdout",
     "output_type": "stream",
     "text": [
      "[[0, 0, 0], [0, 0, 0], [0, 0, 7]]\n"
     ]
    }
   ],
   "source": [
    "data=[]\n",
    "for i in range(3):\n",
    "    data.append([0]*3)\n",
    "data[2][2]=7\n",
    "print(data)"
   ]
  },
  {
   "cell_type": "markdown",
   "metadata": {},
   "source": [
    "总结：水很深，咱别用"
   ]
  },
  {
   "cell_type": "markdown",
   "metadata": {},
   "source": [
    "#### 用嵌套循环产生列表"
   ]
  },
  {
   "cell_type": "code",
   "execution_count": 2,
   "metadata": {},
   "outputs": [
    {
     "name": "stdout",
     "output_type": "stream",
     "text": [
      "[(0, 0), (0, 1), (0, 2), (0, 3), (1, 0), (1, 1), (1, 2), (1, 3), (2, 0), (2, 1), (2, 2), (2, 3)]\n"
     ]
    }
   ],
   "source": [
    "print([(i,j) for i in range(3) for j in range(4)])"
   ]
  },
  {
   "cell_type": "markdown",
   "metadata": {},
   "source": [
    "j 是内循环 i 是外循环"
   ]
  }
 ],
 "metadata": {
  "interpreter": {
   "hash": "89da4286ac7601a46f3f438ce906c836d2e83877201c5ddc9bc420e0b69a1e5c"
  },
  "kernelspec": {
   "display_name": "Python 3.9.7 64-bit (system)",
   "language": "python",
   "name": "python3"
  },
  "language_info": {
   "codemirror_mode": {
    "name": "ipython",
    "version": 3
   },
   "file_extension": ".py",
   "mimetype": "text/x-python",
   "name": "python",
   "nbconvert_exporter": "python",
   "pygments_lexer": "ipython3",
   "version": "3.9.7"
  },
  "orig_nbformat": 4
 },
 "nbformat": 4,
 "nbformat_minor": 2
}
